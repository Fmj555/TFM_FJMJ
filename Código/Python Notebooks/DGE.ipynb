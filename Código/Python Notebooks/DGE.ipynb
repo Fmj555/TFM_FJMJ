{
 "cells": [
  {
   "cell_type": "code",
   "id": "9e5ca70e-a405-4250-9f89-52c7af664e08",
   "metadata": {
    "ExecuteTime": {
     "end_time": "2025-05-27T07:47:06.837671Z",
     "start_time": "2025-05-27T07:47:05.781017Z"
    }
   },
   "source": [
    "import pandas as pd\n",
    "import pydeseq2 as deseq2\n",
    "from dask.dataframe.utils import meta_object_types\n",
    "from pydeseq2.dds import DeseqDataSet\n",
    "from pydeseq2.ds import DeseqStats\n",
    "from pydeseq2.dds import DeseqDataSet"
   ],
   "outputs": [],
   "execution_count": 2
  },
  {
   "cell_type": "code",
   "id": "bdf39d4b-445c-4e12-921f-da50bc2383c0",
   "metadata": {
    "ExecuteTime": {
     "end_time": "2025-05-27T07:47:27.410016Z",
     "start_time": "2025-05-27T07:47:27.012541Z"
    }
   },
   "source": [
    "counts = pd.read_csv(\"SL4_counts_renamed.txt\", sep=\"\\t\")\n",
    "path = \"METADATA_SRA.xlsx\"\n",
    "metadata = pd.read_excel(path)\n",
    "counts = counts.set_index(\"Geneid\")\n",
    "\n",
    "# Seleccionar desde la columna 6 en adelante\n",
    "counts_df = counts.iloc[:, 5:]\n",
    "\n",
    "# Eliminar genes sin expresión\n",
    "min_counts = 10  # Umbral mínimo de expresión\n",
    "min_samples = 3  # Debe estar expresado en al menos 3 muestras\n",
    "counts_df = counts_df.loc[(counts_df >= min_counts).sum(axis=1) >= min_samples]\n",
    "\n",
    "# Eliminar genes con conteos totales extremadamente altos (top 1%)\n",
    "total_counts = counts_df.sum(axis=1)\n",
    "high_count_threshold = total_counts.quantile(0.99)\n",
    "counts_df = counts_df.loc[total_counts < high_count_threshold]\n",
    "\n",
    "# Alinear counts_df con metadata\n",
    "metadata.index = metadata.iloc[:, 0]\n",
    "metadata = metadata.drop(metadata.columns[0], axis=1)\n",
    "counts_df = counts_df.loc[:, metadata.index]\n",
    "\n",
    "# Eliminar el prefijo \"gene:\" del índice y transponer\n",
    "counts_df.index = counts_df.index.str.replace(\"^gene:\", \"\", regex=True)\n",
    "counts_df = counts_df.T"
   ],
   "outputs": [],
   "execution_count": 4
  },
  {
   "metadata": {
    "ExecuteTime": {
     "end_time": "2025-05-27T07:47:29.811200Z",
     "start_time": "2025-05-27T07:47:29.793330Z"
    }
   },
   "cell_type": "code",
   "source": [
    "# ¿Hay varianza en GC_CONTENT?\n",
    "print(\"Varianza GC:\", metadata[\"GC_CONTENT\"].var())\n",
    "\n",
    "# ¿Coinciden STRESS y STUDY perfectamente?\n",
    "print(\"\\nCrosstab STRESS vs STUDY:\")\n",
    "print(pd.crosstab(metadata[\"STRESS\"], metadata[\"STUDY\"]))\n",
    "\n",
    "# ¿Cuántos niveles tiene cada variable?\n",
    "print(\"\\nNiveles de STRESS:\", metadata[\"STRESS\"].unique())\n",
    "print(\"Niveles de STUDY:\", metadata[\"STUDY\"].unique())\n"
   ],
   "id": "9efd7bc35d05351",
   "outputs": [
    {
     "name": "stdout",
     "output_type": "stream",
     "text": [
      "Varianza GC: 17.707671957671955\n",
      "\n",
      "Crosstab STRESS vs STUDY:\n",
      "STUDY    1  2  3  4  5  6\n",
      "STRESS                   \n",
      "Al       0  0  0  0  0  3\n",
      "CL       0  0  0  1  0  0\n",
      "D        0  3  0  0  0  0\n",
      "H        3  0  2  0  0  0\n",
      "S        3  0  0  0  3  0\n",
      "S + H    3  0  0  0  0  0\n",
      "control  3  1  2  1  0  0\n",
      "\n",
      "Niveles de STRESS: ['S + H' 'H' 'S' 'control' 'D' 'CL' 'Al']\n",
      "Niveles de STUDY: [1 2 3 4 5 6]\n"
     ]
    }
   ],
   "execution_count": 5
  },
  {
   "cell_type": "code",
   "id": "54a81b71-136d-4359-af0d-e158f34037cb",
   "metadata": {
    "ExecuteTime": {
     "end_time": "2025-05-27T07:47:34.882403Z",
     "start_time": "2025-05-27T07:47:33.408961Z"
    }
   },
   "source": [
    "from pydeseq2.dds import DeseqDataSet\n",
    "\n",
    "dds = DeseqDataSet(\n",
    "    counts=counts_df,\n",
    "    metadata=metadata,\n",
    "    design_factors=[\"STRESS\", \"GC_CONTENT\"]\n",
    ")\n"
   ],
   "outputs": [
    {
     "name": "stderr",
     "output_type": "stream",
     "text": [
      "C:\\Users\\Trvpe\\AppData\\Local\\Temp\\ipykernel_21160\\2243711775.py:3: DeprecationWarning: design_factors is deprecated and will soon be removed.Please consider providing a formulaic formula using the design argumentinstead.\n",
      "  dds = DeseqDataSet(\n"
     ]
    }
   ],
   "execution_count": 6
  },
  {
   "cell_type": "code",
   "id": "ad0b6530-5aef-4f31-a492-60a752ef093e",
   "metadata": {
    "scrolled": true,
    "ExecuteTime": {
     "end_time": "2025-05-27T07:47:50.696024Z",
     "start_time": "2025-05-27T07:47:37.915938Z"
    }
   },
   "source": [
    "dds.deseq2()"
   ],
   "outputs": [
    {
     "name": "stderr",
     "output_type": "stream",
     "text": [
      "Fitting size factors...\n",
      "... done in 0.03 seconds.\n",
      "\n"
     ]
    },
    {
     "name": "stdout",
     "output_type": "stream",
     "text": [
      "Using None as control genes, passed at DeseqDataSet initialization\n"
     ]
    },
    {
     "name": "stderr",
     "output_type": "stream",
     "text": [
      "Fitting dispersions...\n",
      "... done in 2.52 seconds.\n",
      "\n",
      "Fitting dispersion trend curve...\n",
      "... done in 0.40 seconds.\n",
      "\n",
      "Fitting MAP dispersions...\n",
      "... done in 2.92 seconds.\n",
      "\n",
      "Fitting LFCs...\n",
      "... done in 1.77 seconds.\n",
      "\n",
      "Calculating cook's distance...\n",
      "... done in 0.04 seconds.\n",
      "\n",
      "Replacing 0 outlier genes.\n",
      "\n"
     ]
    }
   ],
   "execution_count": 7
  },
  {
   "cell_type": "code",
   "id": "ad048c2d-c0fa-46e9-b142-44117259f817",
   "metadata": {
    "ExecuteTime": {
     "end_time": "2025-05-27T07:48:13.674934Z",
     "start_time": "2025-05-27T07:48:06.873183Z"
    }
   },
   "source": [
    "# Lista de condiciones únicas excluyendo el control\n",
    "conditions = metadata[\"STRESS\"].unique()\n",
    "conditions = [c for c in conditions if c != \"control\"]\n",
    "\n",
    "# Diccionario para guardar los resultados\n",
    "results = {}\n",
    "\n",
    "# Ejecutar DESeqStats para cada condición vs control\n",
    "for cond in conditions:\n",
    "    print(f\"Procesando: {cond} vs control\")\n",
    "    \n",
    "    # Ejecutar DESeqStats con STRESS como contraste\n",
    "    stat = DeseqStats(dds, contrast=(\"STRESS\", cond, \"control\"))\n",
    "    stat.summary() \n",
    "    \n",
    "    # Usar 'results_df' para guardar los resultados\n",
    "    results[cond] = stat.results_df  \n"
   ],
   "outputs": [
    {
     "name": "stdout",
     "output_type": "stream",
     "text": [
      "Procesando: S + H vs control\n"
     ]
    },
    {
     "name": "stderr",
     "output_type": "stream",
     "text": [
      "Running Wald tests...\n",
      "... done in 1.02 seconds.\n",
      "\n",
      "Running Wald tests...\n"
     ]
    },
    {
     "name": "stdout",
     "output_type": "stream",
     "text": [
      "Log2 fold change & Wald test p-value: STRESS S + H vs control\n",
      "                     baseMean  log2FoldChange     lfcSE      stat    pvalue  \\\n",
      "Geneid                                                                        \n",
      "Solyc00g500022.1     3.746014       -2.677725  1.973288 -1.356987  0.174785   \n",
      "Solyc00g500023.1     7.923382       -4.834982  2.309633 -2.093399  0.036314   \n",
      "Solyc00g500034.1    14.299603       -7.541594  2.953170 -2.553728  0.010658   \n",
      "Solyc00g500039.1     4.044053       -1.437800  1.599949 -0.898653  0.368837   \n",
      "Solyc00g500042.1    20.907036       -8.088404  2.745395 -2.946172  0.003217   \n",
      "...                       ...             ...       ...       ...       ...   \n",
      "Solyc12g100310.2   803.887518        0.199874  0.193787  1.031414  0.302346   \n",
      "Solyc12g100320.2   151.655983        0.368502  0.266080  1.384929  0.166074   \n",
      "Solyc12g100330.2   443.279154       -1.300265  0.430553 -3.019988  0.002528   \n",
      "Solyc12g100340.1     2.155722       -0.874669  3.376246 -0.259066  0.795585   \n",
      "Solyc12g100360.1  1507.649680        0.755748  0.361986  2.087780  0.036818   \n",
      "\n",
      "                      padj  \n",
      "Geneid                      \n",
      "Solyc00g500022.1  0.314992  \n",
      "Solyc00g500023.1  0.098222  \n",
      "Solyc00g500034.1  0.038132  \n",
      "Solyc00g500039.1  0.532340  \n",
      "Solyc00g500042.1  0.014605  \n",
      "...                    ...  \n",
      "Solyc12g100310.2  0.463843  \n",
      "Solyc12g100320.2  0.303336  \n",
      "Solyc12g100330.2  0.012109  \n",
      "Solyc12g100340.1  0.877353  \n",
      "Solyc12g100360.1  0.099212  \n",
      "\n",
      "[23007 rows x 6 columns]\n",
      "Procesando: H vs control\n"
     ]
    },
    {
     "name": "stderr",
     "output_type": "stream",
     "text": [
      "... done in 1.03 seconds.\n",
      "\n",
      "Running Wald tests...\n"
     ]
    },
    {
     "name": "stdout",
     "output_type": "stream",
     "text": [
      "Log2 fold change & Wald test p-value: STRESS H vs control\n",
      "                     baseMean  log2FoldChange     lfcSE      stat    pvalue  \\\n",
      "Geneid                                                                        \n",
      "Solyc00g500022.1     3.746014       -1.581929  1.598695 -0.989512  0.322413   \n",
      "Solyc00g500023.1     7.923382       -2.279521  1.752613 -1.300641  0.193381   \n",
      "Solyc00g500034.1    14.299603       -3.218607  1.900090 -1.693923  0.090280   \n",
      "Solyc00g500039.1     4.044053       -1.312871  1.324247 -0.991409  0.321486   \n",
      "Solyc00g500042.1    20.907036       -2.537770  1.650798 -1.537299  0.124220   \n",
      "...                       ...             ...       ...       ...       ...   \n",
      "Solyc12g100310.2   803.887518        0.235532  0.163603  1.439653  0.149966   \n",
      "Solyc12g100320.2   151.655983        0.424764  0.223706  1.898755  0.057597   \n",
      "Solyc12g100330.2   443.279154       -0.636466  0.362602 -1.755272  0.079213   \n",
      "Solyc12g100340.1     2.155722       -5.720660  3.213399 -1.780252  0.075035   \n",
      "Solyc12g100360.1  1507.649680        0.205966  0.306525  0.671938  0.501623   \n",
      "\n",
      "                      padj  \n",
      "Geneid                      \n",
      "Solyc00g500022.1  0.570903  \n",
      "Solyc00g500023.1  0.424572  \n",
      "Solyc00g500034.1  0.262083  \n",
      "Solyc00g500039.1  0.569882  \n",
      "Solyc00g500042.1  0.321603  \n",
      "...                    ...  \n",
      "Solyc12g100310.2  0.362857  \n",
      "Solyc12g100320.2  0.194195  \n",
      "Solyc12g100330.2  0.239906  \n",
      "Solyc12g100340.1       NaN  \n",
      "Solyc12g100360.1  0.726200  \n",
      "\n",
      "[23007 rows x 6 columns]\n",
      "Procesando: S vs control\n"
     ]
    },
    {
     "name": "stderr",
     "output_type": "stream",
     "text": [
      "... done in 1.01 seconds.\n",
      "\n",
      "Running Wald tests...\n"
     ]
    },
    {
     "name": "stdout",
     "output_type": "stream",
     "text": [
      "Log2 fold change & Wald test p-value: STRESS S vs control\n",
      "                     baseMean  log2FoldChange     lfcSE      stat    pvalue  \\\n",
      "Geneid                                                                        \n",
      "Solyc00g500022.1     3.746014        0.066998  1.858869  0.036042  0.971249   \n",
      "Solyc00g500023.1     7.923382       -5.661285  2.380649 -2.378043  0.017405   \n",
      "Solyc00g500034.1    14.299603       -7.713048  2.858288 -2.698485  0.006966   \n",
      "Solyc00g500039.1     4.044053       -1.109312  1.572582 -0.705408  0.480556   \n",
      "Solyc00g500042.1    20.907036       -8.320419  2.645856 -3.144698  0.001663   \n",
      "...                       ...             ...       ...       ...       ...   \n",
      "Solyc12g100310.2   803.887518       -0.109833  0.192698 -0.569976  0.568694   \n",
      "Solyc12g100320.2   151.655983       -0.313932  0.267185 -1.174961  0.240010   \n",
      "Solyc12g100330.2   443.279154       -0.941794  0.426427 -2.208573  0.027204   \n",
      "Solyc12g100340.1     2.155722        1.247132  3.326428  0.374916  0.707723   \n",
      "Solyc12g100360.1  1507.649680        0.525609  0.359289  1.462912  0.143491   \n",
      "\n",
      "                      padj  \n",
      "Geneid                      \n",
      "Solyc00g500022.1  0.990311  \n",
      "Solyc00g500023.1  0.126364  \n",
      "Solyc00g500034.1  0.077138  \n",
      "Solyc00g500039.1  0.722662  \n",
      "Solyc00g500042.1  0.033128  \n",
      "...                    ...  \n",
      "Solyc12g100310.2  0.782997  \n",
      "Solyc12g100320.2  0.504512  \n",
      "Solyc12g100330.2  0.162357  \n",
      "Solyc12g100340.1       NaN  \n",
      "Solyc12g100360.1  0.388856  \n",
      "\n",
      "[23007 rows x 6 columns]\n",
      "Procesando: D vs control\n"
     ]
    },
    {
     "name": "stderr",
     "output_type": "stream",
     "text": [
      "... done in 0.99 seconds.\n",
      "\n",
      "Running Wald tests...\n"
     ]
    },
    {
     "name": "stdout",
     "output_type": "stream",
     "text": [
      "Log2 fold change & Wald test p-value: STRESS D vs control\n",
      "                     baseMean  log2FoldChange     lfcSE      stat    pvalue  \\\n",
      "Geneid                                                                        \n",
      "Solyc00g500022.1     3.746014       -3.096344  2.022665 -1.530824  0.125813   \n",
      "Solyc00g500023.1     7.923382       -5.099100  2.281561 -2.234917  0.025423   \n",
      "Solyc00g500034.1    14.299603       -6.909107  2.611895 -2.645247  0.008163   \n",
      "Solyc00g500039.1     4.044053       -2.935595  1.727748 -1.699088  0.089303   \n",
      "Solyc00g500042.1    20.907036       -7.512427  2.377684 -3.159556  0.001580   \n",
      "...                       ...             ...       ...       ...       ...   \n",
      "Solyc12g100310.2   803.887518        0.764379  0.192362  3.973650  0.000071   \n",
      "Solyc12g100320.2   151.655983        0.138340  0.265600  0.520859  0.602465   \n",
      "Solyc12g100330.2   443.279154       -0.387842  0.426941 -0.908422  0.363655   \n",
      "Solyc12g100340.1     2.155722       -4.804159  3.853628 -1.246659  0.212523   \n",
      "Solyc12g100360.1  1507.649680       -0.593822  0.360947 -1.645178  0.099933   \n",
      "\n",
      "                      padj  \n",
      "Geneid                      \n",
      "Solyc00g500022.1  0.293146  \n",
      "Solyc00g500023.1  0.096959  \n",
      "Solyc00g500034.1  0.041763  \n",
      "Solyc00g500039.1  0.232850  \n",
      "Solyc00g500042.1  0.011872  \n",
      "...                    ...  \n",
      "Solyc12g100310.2  0.000989  \n",
      "Solyc12g100320.2  0.779266  \n",
      "Solyc12g100330.2  0.583838  \n",
      "Solyc12g100340.1       NaN  \n",
      "Solyc12g100360.1  0.250985  \n",
      "\n",
      "[23007 rows x 6 columns]\n",
      "Procesando: CL vs control\n"
     ]
    },
    {
     "name": "stderr",
     "output_type": "stream",
     "text": [
      "... done in 1.04 seconds.\n",
      "\n",
      "Running Wald tests...\n"
     ]
    },
    {
     "name": "stdout",
     "output_type": "stream",
     "text": [
      "Log2 fold change & Wald test p-value: STRESS CL vs control\n",
      "                     baseMean  log2FoldChange     lfcSE      stat    pvalue  \\\n",
      "Geneid                                                                        \n",
      "Solyc00g500022.1     3.746014        1.280290  2.909479  0.440041  0.659908   \n",
      "Solyc00g500023.1     7.923382        1.560909  3.167910  0.492725  0.622207   \n",
      "Solyc00g500034.1    14.299603        2.368899  3.427617  0.691121  0.489489   \n",
      "Solyc00g500039.1     4.044053        2.031197  2.384143  0.851961  0.394236   \n",
      "Solyc00g500042.1    20.907036        2.140623  2.989916  0.715948  0.474024   \n",
      "...                       ...             ...       ...       ...       ...   \n",
      "Solyc12g100310.2   803.887518        0.459072  0.305158  1.504373  0.132485   \n",
      "Solyc12g100320.2   151.655983       -1.193332  0.499581 -2.388665  0.016910   \n",
      "Solyc12g100330.2   443.279154        0.311241  0.666126  0.467241  0.640327   \n",
      "Solyc12g100340.1     2.155722       -3.007027  6.150826 -0.488882  0.624925   \n",
      "Solyc12g100360.1  1507.649680       -0.589724  0.562820 -1.047803  0.294729   \n",
      "\n",
      "                      padj  \n",
      "Geneid                      \n",
      "Solyc00g500022.1       NaN  \n",
      "Solyc00g500023.1       NaN  \n",
      "Solyc00g500034.1       NaN  \n",
      "Solyc00g500039.1       NaN  \n",
      "Solyc00g500042.1       NaN  \n",
      "...                    ...  \n",
      "Solyc12g100310.2  0.358274  \n",
      "Solyc12g100320.2  0.104754  \n",
      "Solyc12g100330.2  0.827722  \n",
      "Solyc12g100340.1       NaN  \n",
      "Solyc12g100360.1  0.564874  \n",
      "\n",
      "[23007 rows x 6 columns]\n",
      "Procesando: Al vs control\n",
      "Log2 fold change & Wald test p-value: STRESS Al vs control\n",
      "                     baseMean  log2FoldChange     lfcSE      stat  \\\n",
      "Geneid                                                              \n",
      "Solyc00g500022.1     3.746014       -1.625218  2.033490 -0.799226   \n",
      "Solyc00g500023.1     7.923382       -3.463166  2.269545 -1.525930   \n",
      "Solyc00g500034.1    14.299603       -2.435884  2.267757 -1.074138   \n",
      "Solyc00g500039.1     4.044053        0.322238  1.582856  0.203580   \n",
      "Solyc00g500042.1    20.907036       -4.069824  2.059700 -1.975930   \n",
      "...                       ...             ...       ...       ...   \n",
      "Solyc12g100310.2   803.887518        0.853934  0.194423  4.392140   \n",
      "Solyc12g100320.2   151.655983        0.678328  0.272206  2.491966   \n",
      "Solyc12g100330.2   443.279154        2.096723  0.425986  4.922050   \n",
      "Solyc12g100340.1     2.155722       -3.247162  3.854196 -0.842500   \n",
      "Solyc12g100360.1  1507.649680       -0.733044  0.362611 -2.021575   \n",
      "\n",
      "                        pvalue      padj  \n",
      "Geneid                                    \n",
      "Solyc00g500022.1  4.241593e-01       NaN  \n",
      "Solyc00g500023.1  1.270273e-01  0.198637  \n",
      "Solyc00g500034.1  2.827608e-01  0.382174  \n",
      "Solyc00g500039.1  8.386816e-01       NaN  \n",
      "Solyc00g500042.1  4.816268e-02  0.088316  \n",
      "...                        ...       ...  \n",
      "Solyc12g100310.2  1.122402e-05  0.000057  \n",
      "Solyc12g100320.2  1.270383e-02  0.028459  \n",
      "Solyc12g100330.2  8.564220e-07  0.000006  \n",
      "Solyc12g100340.1  3.995079e-01       NaN  \n",
      "Solyc12g100360.1  4.322030e-02  0.080675  \n",
      "\n",
      "[23007 rows x 6 columns]\n"
     ]
    },
    {
     "name": "stderr",
     "output_type": "stream",
     "text": [
      "... done in 0.99 seconds.\n",
      "\n"
     ]
    }
   ],
   "execution_count": 8
  },
  {
   "cell_type": "code",
   "id": "af977b1d-fe15-48a8-82a8-f5fe8f042560",
   "metadata": {
    "ExecuteTime": {
     "end_time": "2025-05-27T07:48:32.329518Z",
     "start_time": "2025-05-27T07:48:27.639536Z"
    }
   },
   "source": [
    "import matplotlib.pyplot as plt\n",
    "import numpy as np\n",
    "import os\n",
    "\n",
    "# Crear carpeta si no existe\n",
    "os.makedirs(\"volcano_plots\", exist_ok=True)\n",
    "\n",
    "for cond, df in results.items():\n",
    "    log2FC = df['log2FoldChange']\n",
    "    p_adj = df['padj']\n",
    "\n",
    "    bio_signif = (df['padj'] < 0.05) & (df['log2FoldChange'].abs() > 2)\n",
    "    stat_signif = (df['padj'] < 0.05) & (df['log2FoldChange'].abs() <= 2)\n",
    "    not_signif = df['padj'] >= 0.05\n",
    "\n",
    "    n_red = bio_signif.sum()\n",
    "\n",
    "    plt.figure(figsize=(10, 8))\n",
    "    plt.scatter(log2FC[not_signif], -np.log10(p_adj[not_signif]), color='gray', alpha=0.5, label='No significativo')\n",
    "    plt.scatter(log2FC[stat_signif], -np.log10(p_adj[stat_signif]), color='blue', alpha=0.6, label='Solo estadísticamente significativo')\n",
    "    plt.scatter(log2FC[bio_signif], -np.log10(p_adj[bio_signif]), color='red', alpha=0.8, label='Significativo (biológico + estadístico)')\n",
    "\n",
    "    plt.axhline(y=-np.log10(0.05), color='black', linestyle='--', linewidth=1)\n",
    "    plt.axvline(x=2, color='green', linestyle='--', linewidth=1)\n",
    "    plt.axvline(x=-2, color='green', linestyle='--', linewidth=1)\n",
    "\n",
    "    plt.title(f'Volcano Plot: {cond} vs Control\\nSignificativos (bio + estad): {n_red}', fontsize=16)\n",
    "    plt.xlabel('Log2 Fold Change', fontsize=14)\n",
    "    plt.ylabel('-Log10 (p-adj)', fontsize=14)\n",
    "\n",
    "\n",
    "    plt.text(\n",
    "    x=plt.xlim()[0] + 1,\n",
    "    y=plt.ylim()[1] - 1,\n",
    "    s=f\"N = {n_red} genes\",\n",
    "    fontsize=12,\n",
    "    color='red',\n",
    "    horizontalalignment='left',\n",
    "    bbox=dict(facecolor='white', edgecolor='red', boxstyle='round,pad=0.3')\n",
    "    )\n",
    "\n",
    "\n",
    "    plt.legend()\n",
    "    plt.grid(True)\n",
    "    plt.tight_layout()\n",
    "\n",
    "    # Guardar figura como PNG\n",
    "    plot_path = f\"volcano_plots/{cond}_vs_control_volcano.png\"\n",
    "    plt.savefig(plot_path, dpi=300)\n",
    "    print(f\"Guardado: {plot_path}\")\n",
    "\n",
    "    plt.close()  # Cierra la figura para no saturar memoria\n"
   ],
   "outputs": [
    {
     "name": "stdout",
     "output_type": "stream",
     "text": [
      "Guardado: volcano_plots/S + H_vs_control_volcano.png\n",
      "Guardado: volcano_plots/H_vs_control_volcano.png\n",
      "Guardado: volcano_plots/S_vs_control_volcano.png\n",
      "Guardado: volcano_plots/D_vs_control_volcano.png\n",
      "Guardado: volcano_plots/CL_vs_control_volcano.png\n",
      "Guardado: volcano_plots/Al_vs_control_volcano.png\n"
     ]
    }
   ],
   "execution_count": 9
  },
  {
   "metadata": {
    "ExecuteTime": {
     "end_time": "2025-05-27T07:48:55.830961Z",
     "start_time": "2025-05-27T07:48:55.765793Z"
    }
   },
   "cell_type": "code",
   "source": [
    "\n",
    "# Crear carpeta de salida\n",
    "output_dir = \"genes_significativos_bioestadisticos\"\n",
    "os.makedirs(output_dir, exist_ok=True)\n",
    "\n",
    "# Umbral de log2FC\n",
    "logfc_threshold = 2.0\n",
    "\n",
    "# Iterar sobre cada resultado guardado\n",
    "for cond, df in results.items():\n",
    "    # Filtrar por significancia estadística y biológica\n",
    "    sig = df[(df[\"padj\"] < 0.05) & (df[\"log2FoldChange\"].abs() > logfc_threshold)]\n",
    "\n",
    "    # Ordenar por padj\n",
    "    sig_sorted = sig.sort_values(\"padj\")\n",
    "\n",
    "    # Guardar\n",
    "    filename = f\"{output_dir}/{cond}_vs_control_significativos.csv\"\n",
    "    sig_sorted.to_csv(filename)\n",
    "    print(f\"Guardado: {filename} ({len(sig_sorted)} genes)\")"
   ],
   "id": "41737431f6a8c289",
   "outputs": [
    {
     "name": "stdout",
     "output_type": "stream",
     "text": [
      "Guardado: genes_significativos_bioestadisticos/S + H_vs_control_significativos.csv (2232 genes)\n",
      "Guardado: genes_significativos_bioestadisticos/H_vs_control_significativos.csv (676 genes)\n",
      "Guardado: genes_significativos_bioestadisticos/S_vs_control_significativos.csv (569 genes)\n",
      "Guardado: genes_significativos_bioestadisticos/D_vs_control_significativos.csv (1471 genes)\n",
      "Guardado: genes_significativos_bioestadisticos/CL_vs_control_significativos.csv (870 genes)\n",
      "Guardado: genes_significativos_bioestadisticos/Al_vs_control_significativos.csv (4153 genes)\n"
     ]
    }
   ],
   "execution_count": 10
  },
  {
   "cell_type": "code",
   "id": "b5d9ff51-7a38-4a07-8b94-39a7ee280e1b",
   "metadata": {
    "ExecuteTime": {
     "end_time": "2025-05-27T07:49:06.053199Z",
     "start_time": "2025-05-27T07:49:05.758533Z"
    }
   },
   "source": [
    "# Crear resumen\n",
    "logfc_threshold = 2.0\n",
    "summary_counts = {\n",
    "    cond: len(df[(df[\"padj\"] < 0.05) & (df[\"log2FoldChange\"].abs() > logfc_threshold)])\n",
    "    for cond, df in results.items()\n",
    "}\n",
    "\n",
    "# Convertir a DataFrame\n",
    "summary_df = pd.DataFrame.from_dict(summary_counts, orient=\"index\", columns=[\"Num_genes_significativos\"])\n",
    "summary_df = summary_df.sort_values(\"Num_genes_significativos\", ascending=False)\n",
    "\n",
    "# Crear carpeta si no existe\n",
    "os.makedirs(\"resultados_figuras\", exist_ok=True)\n",
    "\n",
    "# Graficar\n",
    "plt.figure(figsize=(10, 6))\n",
    "ax = summary_df.plot(kind=\"bar\", legend=False, color=\"skyblue\")\n",
    "plt.ylabel(\"Nº de genes significativos\")\n",
    "plt.title(\"Genes diferencialmente expresados (padj < 0.05, |log2FC| > 2)\")\n",
    "plt.xticks(rotation=45, ha=\"right\")\n",
    "plt.tight_layout()\n",
    "plt.grid(axis=\"y\", linestyle=\"--\", alpha=0.6)\n",
    "\n",
    "# Añadir etiquetas en cada barra\n",
    "for i, val in enumerate(summary_df[\"Num_genes_significativos\"]):\n",
    "    ax.text(i, val + 1, str(val), ha='center', va='bottom', fontsize=9)\n",
    "\n",
    "# Guardar imagen\n",
    "plt.savefig(\"resultados_figuras/genes_significativos_por_comparacion.png\", dpi=300)\n",
    "plt.show()\n",
    "\n",
    "\n"
   ],
   "outputs": [
    {
     "data": {
      "text/plain": [
       "<Figure size 1000x600 with 0 Axes>"
      ]
     },
     "metadata": {},
     "output_type": "display_data"
    },
    {
     "data": {
      "text/plain": [
       "<Figure size 640x480 with 1 Axes>"
      ],
      "image/png": "[encoded data removed]"
     },
     "metadata": {},
     "output_type": "display_data"
    }
   ],
   "execution_count": 11
  },
  {
   "metadata": {
    "ExecuteTime": {
     "end_time": "2025-05-27T07:49:21.640242Z",
     "start_time": "2025-05-27T07:49:21.628980Z"
    }
   },
   "cell_type": "code",
   "source": [
    "from functools import reduce\n",
    "\n",
    "# Umbral de log2FC\n",
    "logfc_threshold = 2.0\n",
    "\n",
    "# Crear diccionario con conjuntos de genes significativos por condición\n",
    "sets = {\n",
    "    cond: set(df[(df[\"padj\"] < 0.05) & (df[\"log2FoldChange\"].abs() > logfc_threshold)].index)\n",
    "    for cond, df in results.items()\n",
    "}\n",
    "\n",
    "# Obtener intersección (genes comunes a todas las condiciones)\n",
    "genes_comunes = reduce(set.intersection, sets.values())\n",
    "\n",
    "# Mostrar y guardar resultados\n",
    "print(f\"Genes comunes en TODAS las condiciones: {len(genes_comunes)} encontrados.\")\n",
    "genes_comunes"
   ],
   "id": "4ebe08b170d04190",
   "outputs": [
    {
     "name": "stdout",
     "output_type": "stream",
     "text": [
      "Genes comunes en TODAS las condiciones: 1 encontrados.\n"
     ]
    },
    {
     "data": {
      "text/plain": [
       "{'Solyc02g079930.3'}"
      ]
     },
     "execution_count": 12,
     "metadata": {},
     "output_type": "execute_result"
    }
   ],
   "execution_count": 12
  },
  {
   "metadata": {
    "ExecuteTime": {
     "end_time": "2025-05-27T07:49:35.252182Z",
     "start_time": "2025-05-27T07:49:35.240159Z"
    }
   },
   "cell_type": "code",
   "source": [
    "# Umbral de log2FC de 1.0\n",
    "logfc_threshold = 1.0\n",
    "\n",
    "# Crear diccionario con conjuntos de genes significativos por condición\n",
    "sets = {\n",
    "    cond: set(df[(df[\"padj\"] < 0.05) & (df[\"log2FoldChange\"].abs() > logfc_threshold)].index)\n",
    "    for cond, df in results.items()\n",
    "}\n",
    "\n",
    "# Obtener intersección (genes comunes a todas las condiciones)\n",
    "genes_comunes = reduce(set.intersection, sets.values())\n",
    "\n",
    "# Mostrar y guardar resultados\n",
    "print(f\"Genes comunes en TODAS las condiciones: {len(genes_comunes)} encontrados.\")\n",
    "genes_comunes"
   ],
   "id": "e26048282e8fa887",
   "outputs": [
    {
     "name": "stdout",
     "output_type": "stream",
     "text": [
      "Genes comunes en TODAS las condiciones: 7 encontrados.\n"
     ]
    },
    {
     "data": {
      "text/plain": [
       "{'Solyc02g066930.3',\n",
       " 'Solyc02g079930.3',\n",
       " 'Solyc04g079760.4',\n",
       " 'Solyc06g011350.3',\n",
       " 'Solyc07g052700.3',\n",
       " 'Solyc08g079200.1',\n",
       " 'Solyc11g066100.2'}"
      ]
     },
     "execution_count": 13,
     "metadata": {},
     "output_type": "execute_result"
    }
   ],
   "execution_count": 13
  },
  {
   "metadata": {
    "ExecuteTime": {
     "end_time": "2025-05-27T07:49:40.156522Z",
     "start_time": "2025-05-27T07:49:40.142547Z"
    }
   },
   "cell_type": "code",
   "source": [
    "from collections import Counter\n",
    "\n",
    "# Umbral de log2FC\n",
    "logfc_threshold = 2.0\n",
    "\n",
    "# Crear diccionario con conjuntos de genes por condición\n",
    "sets = {\n",
    "    cond: set(df[(df[\"padj\"] < 0.05) & (df[\"log2FoldChange\"].abs() > logfc_threshold)].index)\n",
    "    for cond, df in results.items()\n",
    "}\n",
    "\n",
    "# Contar cuántas veces aparece cada gen\n",
    "all_genes = [gene for s in sets.values() for gene in s]\n",
    "gene_counts = Counter(all_genes)\n",
    "\n",
    "# Umbral minimo de condiciones\n",
    "min_conditions = 2\n",
    "\n",
    "# Filtrar genes que aparecen en al menos 'min_conditions'\n",
    "genes_recurrentes = [gene for gene, count in gene_counts.items() if count >= min_conditions]\n",
    "\n",
    "print(f\"Número de genes presentes en al menos {min_conditions} condiciones: {len(genes_recurrentes)}\")\n",
    "\n",
    "# Guardar en CSV\n",
    "os.makedirs(\"resultados_figuras\", exist_ok=True)\n",
    "pd.Series(sorted(genes_recurrentes)).to_csv(\n",
    "    f\"resultados_figuras/genes_en_al_menos_{min_conditions}_condiciones.csv\", index=False\n",
    ")\n"
   ],
   "id": "e243bd3bd85492d3",
   "outputs": [
    {
     "name": "stdout",
     "output_type": "stream",
     "text": [
      "Número de genes presentes en al menos 2 condiciones: 2161\n"
     ]
    }
   ],
   "execution_count": 14
  },
  {
   "metadata": {
    "ExecuteTime": {
     "end_time": "2025-05-26T09:19:10.202388Z",
     "start_time": "2025-05-26T09:19:09.341680Z"
    }
   },
   "cell_type": "code",
   "source": [
    "import pandas as pd\n",
    "\n",
    "# Tu lista sin versiones\n",
    "genes_solyc = [g.split('.')[0] for g in genes_recurrentes]\n",
    "\n",
    "# Leer archivo GFF completo\n",
    "gff_path = \"ITAG4.0_gene_models.gff\"\n",
    "with open(gff_path, \"r\") as file:\n",
    "    lines = [line.strip() for line in file if not line.startswith(\"#\")]\n",
    "\n",
    "# Diccionarios para almacenar datos\n",
    "gene_data = {}\n",
    "note_data = {}\n",
    "\n",
    "for line in lines:\n",
    "    cols = line.split(\"\\t\")\n",
    "    if len(cols) < 9:\n",
    "        continue\n",
    "\n",
    "    feature = cols[2]\n",
    "    attrs = dict(item.split(\"=\", 1) for item in cols[8].split(\";\") if \"=\" in item)\n",
    "\n",
    "    # Línea tipo gene: extraer posición\n",
    "    if feature == \"gene\":\n",
    "        gene_id = attrs.get(\"ID\", \"\").replace(\"gene:\", \"\").split(\".\")[0]\n",
    "        if gene_id in genes_solyc:\n",
    "            gene_data[gene_id] = {\n",
    "                \"GeneID\": gene_id,\n",
    "                \"Chromosome\": cols[0],\n",
    "                \"Start\": cols[3],\n",
    "                \"End\": cols[4],\n",
    "                \"Strand\": cols[6],\n",
    "                \"Name\": attrs.get(\"Name\", \"\")\n",
    "            }\n",
    "\n",
    "    # Línea tipo mRNA: extraer Note\n",
    "    elif feature == \"mRNA\":\n",
    "        parent_id = attrs.get(\"Parent\", \"\").replace(\"gene:\", \"\").split(\".\")[0]\n",
    "        if parent_id in genes_solyc:\n",
    "            note_data[parent_id] = attrs.get(\"Note\", \"\")\n",
    "\n",
    "# Unir gene + note\n",
    "for gene_id in gene_data:\n",
    "    gene_data[gene_id][\"Note\"] = note_data.get(gene_id, \"\")\n",
    "\n",
    "# Crear DataFrame\n",
    "df = pd.DataFrame(gene_data.values())\n",
    "df = df.sort_values(\"GeneID\")\n",
    "df.to_csv(\"resultados_figuras/anotaciones_genes_manual.csv\", index=False)\n",
    "\n",
    "print(f\"{len(df)} anotaciones guardadas.\")\n",
    "print(df.head())\n"
   ],
   "id": "704a3abb1733290c",
   "outputs": [
    {
     "name": "stdout",
     "output_type": "stream",
     "text": [
      "29 anotaciones guardadas.\n",
      "           GeneID Chromosome     Start       End Strand              Name  \\\n",
      "0  Solyc01g057000  SL4.0ch01  51153163  51155590      +  Solyc01g057000.3   \n",
      "1  Solyc01g060200  SL4.0ch01  62977663  62983750      -  Solyc01g060200.3   \n",
      "3  Solyc01g102960  SL4.0ch01  83883949  83884828      +  Solyc01g102960.3   \n",
      "4  Solyc01g103920  SL4.0ch01  84715169  84715923      -  Solyc01g103920.3   \n",
      "2  Solyc01g150149  SL4.0ch01  79787120  79788237      -  Solyc01g150149.1   \n",
      "\n",
      "                                                Note  \n",
      "0                           Universal stress protein  \n",
      "1  3'-5' exonuclease domain (AHRD V3.3 *** A0A200...  \n",
      "3  22.0 kDa class IV heat shock protein (AHRD V3....  \n",
      "4            Ferredoxin (AHRD V3.3 *** K4B1W7_SOLLC)  \n",
      "2                                    Unknown protein  \n"
     ]
    }
   ],
   "execution_count": 59
  },
  {
   "metadata": {},
   "cell_type": "code",
   "outputs": [],
   "execution_count": null,
   "source": "",
   "id": "f58230acd5e354dc"
  }
 ],
 "metadata": {
  "kernelspec": {
   "display_name": "Python [conda env:base] *",
   "language": "python",
   "name": "conda-base-py"
  },
  "language_info": {
   "codemirror_mode": {
    "name": "ipython",
    "version": 3
   },
   "file_extension": ".py",
   "mimetype": "text/x-python",
   "name": "python",
   "nbconvert_exporter": "python",
   "pygments_lexer": "ipython3",
   "version": "3.12.3"
  }
 },
 "nbformat": 4,
 "nbformat_minor": 5
}
